{
  "nbformat": 4,
  "nbformat_minor": 0,
  "metadata": {
    "colab": {
      "provenance": [],
      "authorship_tag": "ABX9TyOE+VTYrwP0nv987Qj89KZL",
      "include_colab_link": true
    },
    "kernelspec": {
      "name": "python3",
      "display_name": "Python 3"
    },
    "language_info": {
      "name": "python"
    }
  },
  "cells": [
    {
      "cell_type": "markdown",
      "metadata": {
        "id": "view-in-github",
        "colab_type": "text"
      },
      "source": [
        "<a href=\"https://colab.research.google.com/github/ChitviJoshi/mini-project-PDF-to-Text-to-Audio/blob/main/PDF_Text_Audio.ipynb\" target=\"_parent\"><img src=\"https://colab.research.google.com/assets/colab-badge.svg\" alt=\"Open In Colab\"/></a>"
      ]
    },
    {
      "cell_type": "code",
      "source": [
        "!sudo apt install tesseract-ocr -y\n",
        "!apt install poppler-utils -y\n",
        "!pip install pytesseract pdf2image PyMuPDF gTTS\n"
      ],
      "metadata": {
        "colab": {
          "base_uri": "https://localhost:8080/"
        },
        "id": "UGlWB0rXfwYX",
        "outputId": "0c39c8c2-8952-42ea-b976-df8fef2194a7"
      },
      "execution_count": 10,
      "outputs": [
        {
          "output_type": "stream",
          "name": "stdout",
          "text": [
            "Reading package lists... Done\n",
            "Building dependency tree... Done\n",
            "Reading state information... Done\n",
            "tesseract-ocr is already the newest version (4.1.1-2.1build1).\n",
            "0 upgraded, 0 newly installed, 0 to remove and 35 not upgraded.\n",
            "Reading package lists... Done\n",
            "Building dependency tree... Done\n",
            "Reading state information... Done\n",
            "poppler-utils is already the newest version (22.02.0-2ubuntu0.8).\n",
            "0 upgraded, 0 newly installed, 0 to remove and 35 not upgraded.\n",
            "Requirement already satisfied: pytesseract in /usr/local/lib/python3.11/dist-packages (0.3.13)\n",
            "Requirement already satisfied: pdf2image in /usr/local/lib/python3.11/dist-packages (1.17.0)\n",
            "Requirement already satisfied: PyMuPDF in /usr/local/lib/python3.11/dist-packages (1.26.1)\n",
            "Requirement already satisfied: gTTS in /usr/local/lib/python3.11/dist-packages (2.5.4)\n",
            "Requirement already satisfied: packaging>=21.3 in /usr/local/lib/python3.11/dist-packages (from pytesseract) (24.2)\n",
            "Requirement already satisfied: Pillow>=8.0.0 in /usr/local/lib/python3.11/dist-packages (from pytesseract) (11.2.1)\n",
            "Requirement already satisfied: requests<3,>=2.27 in /usr/local/lib/python3.11/dist-packages (from gTTS) (2.32.3)\n",
            "Requirement already satisfied: click<8.2,>=7.1 in /usr/local/lib/python3.11/dist-packages (from gTTS) (8.1.8)\n",
            "Requirement already satisfied: charset-normalizer<4,>=2 in /usr/local/lib/python3.11/dist-packages (from requests<3,>=2.27->gTTS) (3.4.2)\n",
            "Requirement already satisfied: idna<4,>=2.5 in /usr/local/lib/python3.11/dist-packages (from requests<3,>=2.27->gTTS) (3.10)\n",
            "Requirement already satisfied: urllib3<3,>=1.21.1 in /usr/local/lib/python3.11/dist-packages (from requests<3,>=2.27->gTTS) (2.4.0)\n",
            "Requirement already satisfied: certifi>=2017.4.17 in /usr/local/lib/python3.11/dist-packages (from requests<3,>=2.27->gTTS) (2025.6.15)\n"
          ]
        }
      ]
    },
    {
      "cell_type": "code",
      "execution_count": 18,
      "metadata": {
        "id": "hr15UYO0fWQC"
      },
      "outputs": [],
      "source": [
        "import pytesseract\n",
        "from pdf2image import convert_from_path\n",
        "import fitz\n",
        "from gtts import gTTS"
      ]
    },
    {
      "cell_type": "code",
      "source": [
        "def extract_text_pdf(path):\n",
        "    try:\n",
        "        # Attempt to extract digital text\n",
        "        doc = fitz.open(path)\n",
        "        full_text = \"\"\n",
        "        for page in doc:\n",
        "            full_text += page.get_text()\n",
        "        if len(full_text.strip()) > 20:\n",
        "            print(\"Digital text extracted successfully.\")\n",
        "            return full_text\n",
        "    except Exception as e:\n",
        "        print(\"Digital extraction failed. Error:\", e)\n",
        "\n",
        "    # Fallback: OCR using Tesseract\n",
        "    print(\"Falling back to OCR...\")\n",
        "    images = convert_from_path(path)\n",
        "    ocr_text = \"\"\n",
        "    for i, image in enumerate(images):\n",
        "        page_text = pytesseract.image_to_string(image)\n",
        "        ocr_text += f\"\\n--- Page {i+1} ---\\n{page_text}\"\n",
        "    return ocr_text"
      ],
      "metadata": {
        "id": "b-NvOsuZfiRU"
      },
      "execution_count": 19,
      "outputs": []
    },
    {
      "cell_type": "code",
      "source": [
        "pdf_path = \"sample-unlocked.pdf\"\n",
        "\n",
        "# === Extract text ===\n",
        "text = extract_text_pdf(pdf_path)"
      ],
      "metadata": {
        "colab": {
          "base_uri": "https://localhost:8080/"
        },
        "id": "dWmst1jDf6X6",
        "outputId": "d69783ee-c141-4803-c325-1d87e730877f"
      },
      "execution_count": 21,
      "outputs": [
        {
          "output_type": "stream",
          "name": "stdout",
          "text": [
            "Digital text extracted successfully.\n"
          ]
        }
      ]
    },
    {
      "cell_type": "code",
      "source": [
        "# === Save text to a .txt file ===\n",
        "text_file_path = 'extracted_text.txt'\n",
        "with open(text_file_path, 'w', encoding='utf-8') as f:\n",
        "    f.write(text)\n",
        "print(f\"✅ Text saved to: {text_file_path}\")"
      ],
      "metadata": {
        "colab": {
          "base_uri": "https://localhost:8080/"
        },
        "id": "EFE4Mj3hgeW_",
        "outputId": "1bc32b56-5f69-47c5-e39b-85d89b3a9874"
      },
      "execution_count": 22,
      "outputs": [
        {
          "output_type": "stream",
          "name": "stdout",
          "text": [
            "✅ Text saved to: extracted_text.txt\n"
          ]
        }
      ]
    },
    {
      "cell_type": "code",
      "source": [
        "# === Convert text to audio ===\n",
        "audio_file_path = '/content/output_audio.mp3'\n",
        "tts = gTTS(text)\n",
        "tts.save(audio_file_path)\n",
        "print(f\"✅ Audio saved to: {audio_file_path}\")"
      ],
      "metadata": {
        "colab": {
          "base_uri": "https://localhost:8080/"
        },
        "id": "_jbiS3C2gC3b",
        "outputId": "c205c7bb-e7ea-41e7-ad78-51c63a42900c"
      },
      "execution_count": 23,
      "outputs": [
        {
          "output_type": "stream",
          "name": "stdout",
          "text": [
            "✅ Audio saved to: /content/output_audio.mp3\n"
          ]
        }
      ]
    }
  ]
}